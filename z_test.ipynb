{
  "nbformat": 4,
  "nbformat_minor": 0,
  "metadata": {
    "colab": {
      "private_outputs": true,
      "provenance": [],
      "authorship_tag": "ABX9TyP52pPUvjhQ+9IMjo3y6kuM",
      "include_colab_link": true
    },
    "kernelspec": {
      "name": "python3",
      "display_name": "Python 3"
    },
    "language_info": {
      "name": "python"
    }
  },
  "cells": [
    {
      "cell_type": "markdown",
      "metadata": {
        "id": "view-in-github",
        "colab_type": "text"
      },
      "source": [
        "<a href=\"https://colab.research.google.com/github/786aafreen/Feb/blob/main/z_test.ipynb\" target=\"_parent\"><img src=\"https://colab.research.google.com/assets/colab-badge.svg\" alt=\"Open In Colab\"/></a>"
      ]
    },
    {
      "cell_type": "code",
      "execution_count": null,
      "metadata": {
        "id": "cYoSUFiaB5Q5"
      },
      "outputs": [],
      "source": [
        "import matplotlib.pyplot as plt\n",
        "import seaborn as sns\n",
        "import numpy as np\n",
        "import pandas as pd\n",
        "from scipy import stats"
      ]
    },
    {
      "cell_type": "code",
      "source": [],
      "metadata": {
        "id": "f0lcg-RdCATR"
      },
      "execution_count": null,
      "outputs": []
    },
    {
      "cell_type": "code",
      "source": [
        "from google.colab import drive\n",
        "drive.mount('/content/drive')"
      ],
      "metadata": {
        "id": "Nnt0uOPPFYMq"
      },
      "execution_count": null,
      "outputs": []
    },
    {
      "cell_type": "code",
      "source": [
        "df = pd.read_csv('/content/drive/MyDrive/players.csv')"
      ],
      "metadata": {
        "id": "Xl1XTaRyFw-Z"
      },
      "execution_count": null,
      "outputs": []
    },
    {
      "cell_type": "code",
      "source": [
        "df.head()"
      ],
      "metadata": {
        "id": "BIeM2kRqG-2a"
      },
      "execution_count": null,
      "outputs": []
    },
    {
      "cell_type": "code",
      "source": [
        "df.shape"
      ],
      "metadata": {
        "id": "JM4w5CIKHgNR"
      },
      "execution_count": null,
      "outputs": []
    },
    {
      "cell_type": "code",
      "source": [
        "df.info()"
      ],
      "metadata": {
        "id": "pL2RYWg_15jD"
      },
      "execution_count": null,
      "outputs": []
    },
    {
      "cell_type": "markdown",
      "source": [
        "#### Hypothesis Testing\n",
        "\n",
        "One Sample Significance Test for Mean is extremely similar to that for Proportion. We will go through almost an identical process.\n",
        "\n",
        "The hypotheses are defined as follows:\n",
        "* **Null Hypothesis**: The average height of an NBA player is 200.66 cm.\n",
        "* **Alternate Hypothesis**: The average height of an NBA player is not 200.66 cm.\n",
        "\n",
        "Significance Level, $\\alpha$ is at 0.05. Assuming Null Hypothesis to be true."
      ],
      "metadata": {
        "id": "1gGxNEjl0qqT"
      }
    },
    {
      "cell_type": "code",
      "source": [
        "h0_mean = 200.66 #google Search"
      ],
      "metadata": {
        "id": "12k4npqK1GGU"
      },
      "execution_count": null,
      "outputs": []
    },
    {
      "cell_type": "code",
      "source": [
        "h1_mean = df['Height'].mean()\n",
        "h1_mean"
      ],
      "metadata": {
        "id": "9X2Iz9JE1aro"
      },
      "execution_count": null,
      "outputs": []
    },
    {
      "cell_type": "markdown",
      "source": [
        "sigma=x-u/n61/2\n",
        "z=(x-mu)/sig/sqrt(n)\n",
        " #z=(x-mu)/sigma"
      ],
      "metadata": {
        "id": "UpypcA-X2T16"
      }
    },
    {
      "cell_type": "code",
      "source": [
        "sigma = df['Height'].std()/np.sqrt(len(df))\n",
        "sigma"
      ],
      "metadata": {
        "id": "q_NNPh8p2DoQ"
      },
      "execution_count": null,
      "outputs": []
    },
    {
      "cell_type": "code",
      "source": [
        "z = (h1_mean-h0_mean)/sigma\n",
        "z"
      ],
      "metadata": {
        "id": "4EXMLOcf3WGC"
      },
      "execution_count": null,
      "outputs": []
    },
    {
      "cell_type": "markdown",
      "source": [
        "*#p_val = (1 - stats.norm.cdf(abs(z))) #ONE TAIL  I.E LOWER TAIL PART*"
      ],
      "metadata": {
        "id": "OgliEYd33xzK"
      }
    },
    {
      "cell_type": "code",
      "source": [
        "p_val = (1-stats.norm.cdf(abs(z)))*2    #TWO TAIL \n",
        "p_val"
      ],
      "metadata": {
        "id": "ETDuUqsf3y9R"
      },
      "execution_count": null,
      "outputs": []
    },
    {
      "cell_type": "markdown",
      "source": [
        "The p value obtained is much lesser than the significance level $\\alpha$. We therefore reject the null hypothesis and accept the alternate hypothesis (the negation). We can therefore arrive at the following conclusion from this analysis:\n",
        "\n",
        "**The average height of NBA Players is NOT 6'7\"**."
      ],
      "metadata": {
        "id": "zroxIUXi88W5"
      }
    },
    {
      "cell_type": "markdown",
      "source": [
        "Analyzing DEPRESSION in India by Gender\n",
        "Are men as likely to commit suicide as women?\n",
        "\n",
        "This is the question we will attempt at answering in this section. To answer this question, we will use suicide statistics shared by the National Crime Records Bureau (NCRB), Govt of India. To perform this analysis, we need to know the sex ratio in India. The Census 2011 report states that there are 940 females for every 1000 males in India.\n",
        "\n",
        "Let p denote the fraction of women in India."
      ],
      "metadata": {
        "id": "kGf1fBBm9Csg"
      }
    },
    {
      "cell_type": "code",
      "source": [],
      "metadata": {
        "id": "1dNR1yzQ89mW"
      },
      "execution_count": null,
      "outputs": []
    },
    {
      "cell_type": "markdown",
      "source": [
        "# H0:MEN AND WOMEN  ARE EQUALLY LIKELY TO DEPRESS    (NULL)\n",
        "# H1:MEN AND WOMEN  ARE  NOT EQUALLY LIKELY TO DEPRESS  (ALTERNATE)\n"
      ],
      "metadata": {
        "id": "8_7hlek29Gnj"
      }
    },
    {
      "cell_type": "code",
      "source": [
        "p = 940/1940\n",
        "p"
      ],
      "metadata": {
        "id": "yniemt5k9Hq5"
      },
      "execution_count": null,
      "outputs": []
    },
    {
      "cell_type": "code",
      "source": [],
      "metadata": {
        "id": "b89fuW-g9UZp"
      },
      "execution_count": null,
      "outputs": []
    }
  ]
}